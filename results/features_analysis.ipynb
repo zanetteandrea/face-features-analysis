{
 "cells": [
  {
   "cell_type": "code",
   "execution_count": 15,
   "metadata": {},
   "outputs": [],
   "source": [
    "import matplotlib.pyplot as plt\n",
    "import seaborn as sns\n",
    "import numpy as np\n",
    "import pandas as pd\n",
    "from PIL import Image\n",
    "import math"
   ]
  },
  {
   "cell_type": "code",
   "execution_count": 12,
   "metadata": {},
   "outputs": [
    {
     "data": {
      "text/html": [
       "<div>\n",
       "<style scoped>\n",
       "    .dataframe tbody tr th:only-of-type {\n",
       "        vertical-align: middle;\n",
       "    }\n",
       "\n",
       "    .dataframe tbody tr th {\n",
       "        vertical-align: top;\n",
       "    }\n",
       "\n",
       "    .dataframe thead th {\n",
       "        text-align: right;\n",
       "    }\n",
       "</style>\n",
       "<table border=\"1\" class=\"dataframe\">\n",
       "  <thead>\n",
       "    <tr style=\"text-align: right;\">\n",
       "      <th></th>\n",
       "      <th>name</th>\n",
       "      <th>gender</th>\n",
       "      <th>age</th>\n",
       "      <th>ethnicity</th>\n",
       "      <th>emotion</th>\n",
       "    </tr>\n",
       "  </thead>\n",
       "  <tbody>\n",
       "    <tr>\n",
       "      <th>0</th>\n",
       "      <td>69351.png</td>\n",
       "      <td>0</td>\n",
       "      <td>1</td>\n",
       "      <td>1</td>\n",
       "      <td>0</td>\n",
       "    </tr>\n",
       "    <tr>\n",
       "      <th>1</th>\n",
       "      <td>68729.png</td>\n",
       "      <td>0</td>\n",
       "      <td>4</td>\n",
       "      <td>3</td>\n",
       "      <td>0</td>\n",
       "    </tr>\n",
       "    <tr>\n",
       "      <th>2</th>\n",
       "      <td>69437.png</td>\n",
       "      <td>0</td>\n",
       "      <td>4</td>\n",
       "      <td>1</td>\n",
       "      <td>0</td>\n",
       "    </tr>\n",
       "    <tr>\n",
       "      <th>3</th>\n",
       "      <td>69423.png</td>\n",
       "      <td>1</td>\n",
       "      <td>4</td>\n",
       "      <td>1</td>\n",
       "      <td>3</td>\n",
       "    </tr>\n",
       "    <tr>\n",
       "      <th>4</th>\n",
       "      <td>69345.png</td>\n",
       "      <td>1</td>\n",
       "      <td>4</td>\n",
       "      <td>0</td>\n",
       "      <td>3</td>\n",
       "    </tr>\n",
       "  </tbody>\n",
       "</table>\n",
       "</div>"
      ],
      "text/plain": [
       "        name  gender  age  ethnicity  emotion\n",
       "0  69351.png       0    1          1        0\n",
       "1  68729.png       0    4          3        0\n",
       "2  69437.png       0    4          1        0\n",
       "3  69423.png       1    4          1        3\n",
       "4  69345.png       1    4          0        3"
      ]
     },
     "execution_count": 12,
     "metadata": {},
     "output_type": "execute_result"
    }
   ],
   "source": [
    "dataset_name = \"flickr\"\n",
    "dataset_path = \"../training_datasets/\"+dataset_name+\"_dataset/\"\n",
    "\n",
    "df = pd.read_csv(\"features_\"+dataset_name+\"_dataset_results.csv\")\n",
    "df.head()"
   ]
  },
  {
   "cell_type": "markdown",
   "metadata": {},
   "source": [
    "# Helper functions #"
   ]
  },
  {
   "cell_type": "code",
   "execution_count": 27,
   "metadata": {},
   "outputs": [],
   "source": [
    "def showImagesGrid(images_list, title, n_cols=5):\n",
    "    img_arr=[]\n",
    "    for image in images_list:\n",
    "        img = Image.open(dataset_path+image).convert('RGB')\n",
    "        img = img.resize((300,300))\n",
    "        img = np.asarray(img)\n",
    "        img_arr.append(img)\n",
    "    img_arr=np.array(img_arr)\n",
    "    index, height, width, channels = img_arr.shape\n",
    "    n_rows = math.ceil(index/n_cols)\n",
    "    img_grid = (img_arr.reshape(n_rows, n_cols, height, width, channels)\n",
    "              .swapaxes(1,2)\n",
    "              .reshape(height*n_rows, width*n_cols, channels))\n",
    "    fig = plt.figure(figsize=(20., 20.))\n",
    "    plt.title(title)\n",
    "    plt.imshow(img_grid)\n",
    "\n",
    "def printPieChart(data, labels, title, save=False):\n",
    "    plt.figure(figsize =(10, 7))\n",
    "    plt.title(title)\n",
    "    plt.pie(data, labels = labels, autopct='%1.1f%%')\n",
    "    if save:\n",
    "        plt.savefig(title+'.jpeg', dpi=300)\n",
    "    else:\n",
    "        plt.show()\n",
    "\n",
    "def printDistribution(distribution, title, save=False):\n",
    "    distribution.T.plot(kind=\"bar\", stacked=True)\n",
    "    plt.xlabel(\"Age\")\n",
    "    plt.ylabel(\"Total\")\n",
    "    plt.xticks(rotation=45)\n",
    "    plt.title(title)\n",
    "    if save:\n",
    "        plt.savefig(title+'.jpeg', dpi=300)\n",
    "    \n",
    "    \"\"\"\n",
    "        plt.figure(figsize=(10,7))\n",
    "        for index, row in distribution.iterrows():\n",
    "            plt.plot(x_ticks, row, label = index)\n",
    "        plt.grid()\n",
    "        plt.xlabel(\"Age\")\n",
    "        plt.ylabel(\"Total\")\n",
    "        plt.ylim([1, distribution.to_numpy().max()])\n",
    "        plt.title(title)\n",
    "        plt.legend()\n",
    "    \"\"\"\n",
    "    \n",
    "        "
   ]
  },
  {
   "cell_type": "markdown",
   "metadata": {},
   "source": [
    "# Ethnicity distribution #"
   ]
  },
  {
   "cell_type": "code",
   "execution_count": 28,
   "metadata": {},
   "outputs": [
    {
     "data": {
      "image/png": "[encoded data removed]",
      "text/plain": [
       "<Figure size 720x504 with 1 Axes>"
      ]
     },
     "metadata": {},
     "output_type": "display_data"
    },
    {
     "name": "stdout",
     "output_type": "stream",
     "text": [
      "        (0-2)  (4-6)  (8-12)  (15-20)  (25-32)  (38-43)  (48-53)  (60-100)\n",
      "white     109    164     201      104      670      157       84        14\n",
      "black      97    114     157       60      463       87       53        18\n",
      "asian      15     24      33       23       64       14       15         1\n",
      "indian     25     27      26       19      132       16        4         0\n",
      "others      0      1       1        0        5        1        0         0\n"
     ]
    },
    {
     "data": {
      "image/png": "[encoded data removed]",
      "text/plain": [
       "<Figure size 432x288 with 1 Axes>"
      ]
     },
     "metadata": {
      "needs_background": "light"
     },
     "output_type": "display_data"
    }
   ],
   "source": [
    "ethnicitiesList = ['white', 'black', 'asian', 'indian', 'others']\n",
    "ageList=['(0-2)', '(4-6)', '(8-12)', '(15-20)', '(25-32)', '(38-43)', '(48-53)', '(60-100)']\n",
    "\n",
    "distribution=pd.Series(0, index=ethnicitiesList)\n",
    "distributionByAge=pd.DataFrame(0, index=ethnicitiesList, columns=ageList)\n",
    "\n",
    "for indexEth, eth in enumerate(ethnicitiesList):\n",
    "    group = df.loc[df[\"ethnicity\"] == indexEth]\n",
    "    distribution[eth] = group.shape[0]\n",
    "    for indexAge, age in enumerate(ageList):\n",
    "        distributionByAge[age][eth] = group.loc[group[\"age\"] == indexAge].shape[0]\n",
    "\n",
    "printPieChart(distribution, ethnicitiesList, \"Ethnicities distribution - \"+dataset_name+\" dataset\", save=False)\n",
    "print(distributionByAge)\n",
    "printDistribution(distributionByAge, \"Ethnicities distribution by ages - \"+dataset_name+\" dataset\", save=False)\n",
    "\n",
    "    "
   ]
  },
  {
   "cell_type": "code",
   "execution_count": null,
   "metadata": {},
   "outputs": [],
   "source": []
  }
 ],
 "metadata": {
  "interpreter": {
   "hash": "77343b9a385ee9aa961a27bde59018b9ebf21b5203e5ac73d5822c7082f34e0f"
  },
  "kernelspec": {
   "display_name": "Python 3.8.13 ('gd_env')",
   "language": "python",
   "name": "python3"
  },
  "language_info": {
   "codemirror_mode": {
    "name": "ipython",
    "version": 3
   },
   "file_extension": ".py",
   "mimetype": "text/x-python",
   "name": "python",
   "nbconvert_exporter": "python",
   "pygments_lexer": "ipython3",
   "version": "3.8.13"
  },
  "orig_nbformat": 4
 },
 "nbformat": 4,
 "nbformat_minor": 2
}
